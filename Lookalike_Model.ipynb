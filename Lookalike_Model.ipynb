{
  "nbformat": 4,
  "nbformat_minor": 0,
  "metadata": {
    "colab": {
      "provenance": [],
      "authorship_tag": "ABX9TyPLKGsBP4EMUXyGsjIe8q3c",
      "include_colab_link": true
    },
    "kernelspec": {
      "name": "python3",
      "display_name": "Python 3"
    },
    "language_info": {
      "name": "python"
    }
  },
  "cells": [
    {
      "cell_type": "markdown",
      "metadata": {
        "id": "view-in-github",
        "colab_type": "text"
      },
      "source": [
        "<a href=\"https://colab.research.google.com/github/RChandana/ZeotapAssignment/blob/main/Lookalike_Model.ipynb\" target=\"_parent\"><img src=\"https://colab.research.google.com/assets/colab-badge.svg\" alt=\"Open In Colab\"/></a>"
      ]
    },
    {
      "cell_type": "markdown",
      "source": [
        "# Data Preprocessing\n"
      ],
      "metadata": {
        "id": "2Gq1uPKdsbuI"
      }
    },
    {
      "cell_type": "code",
      "execution_count": 1,
      "metadata": {
        "id": "u6mCGBCIlbg6"
      },
      "outputs": [],
      "source": [
        "import pandas as pd"
      ]
    },
    {
      "cell_type": "code",
      "source": [
        "# Load the data\n",
        "customers_df = pd.read_csv('Customers.csv')\n",
        "products_df = pd.read_csv('Products.csv')\n",
        "transactions_df = pd.read_csv('Transactions.csv')"
      ],
      "metadata": {
        "id": "RRxbwlmLlovv"
      },
      "execution_count": 9,
      "outputs": []
    },
    {
      "cell_type": "code",
      "source": [
        "# Check for missing values or duplicates\n",
        "print(customers_df.isnull().sum())\n",
        "print(products_df.isnull().sum())\n",
        "print(transactions_df.isnull().sum())"
      ],
      "metadata": {
        "colab": {
          "base_uri": "https://localhost:8080/"
        },
        "id": "Jfya7AN1ltsi",
        "outputId": "67c3f9c1-0ecf-458d-dccf-6cfdbc71a835"
      },
      "execution_count": 20,
      "outputs": [
        {
          "output_type": "stream",
          "name": "stdout",
          "text": [
            "CustomerID         0\n",
            "CustomerName       0\n",
            "Region             0\n",
            "SignupDate         0\n",
            "DaysSinceSignup    0\n",
            "dtype: int64\n",
            "ProductID      0\n",
            "ProductName    0\n",
            "Category       0\n",
            "Price          0\n",
            "dtype: int64\n",
            "TransactionID      0\n",
            "CustomerID         0\n",
            "ProductID          0\n",
            "TransactionDate    0\n",
            "Quantity           0\n",
            "TotalValue         0\n",
            "Price              0\n",
            "dtype: int64\n"
          ]
        }
      ]
    },
    {
      "cell_type": "code",
      "source": [
        "# Remove duplicates if any\n",
        "customers_df.drop_duplicates(inplace=True)\n",
        "products_df.drop_duplicates(inplace=True)\n",
        "transactions_df.drop_duplicates(inplace=True)"
      ],
      "metadata": {
        "id": "x9Mc901Vl0K0"
      },
      "execution_count": 21,
      "outputs": []
    },
    {
      "cell_type": "code",
      "source": [
        "# Merge transactions with customer and product data\n",
        "merged_df = pd.merge(transactions_df, customers_df, on=\"CustomerID\", how=\"left\")\n",
        "merged_df = pd.merge(merged_df, products_df, on=\"ProductID\", how=\"left\")"
      ],
      "metadata": {
        "id": "xp_M-QhamtzY"
      },
      "execution_count": 22,
      "outputs": []
    },
    {
      "cell_type": "code",
      "source": [],
      "metadata": {
        "id": "YbfwLOVxnDn0"
      },
      "execution_count": 12,
      "outputs": []
    },
    {
      "cell_type": "markdown",
      "source": [
        "# Feature Engineering"
      ],
      "metadata": {
        "id": "W17Ai3Nfsfrs"
      }
    },
    {
      "cell_type": "code",
      "source": [
        "# Convert SignupDate to days since signup\n",
        "customers_df['SignupDate'] = pd.to_datetime(customers_df['SignupDate'])\n",
        "customers_df['DaysSinceSignup'] = (pd.to_datetime('today') - customers_df['SignupDate']).dt.days\n",
        "\n",
        "# Merge 'DaysSinceSignup' back into the merged_df\n",
        "merged_df = pd.merge(merged_df, customers_df[['CustomerID', 'DaysSinceSignup']], on=\"CustomerID\", how=\"left\")"
      ],
      "metadata": {
        "id": "Ya0T32rlsimq"
      },
      "execution_count": 23,
      "outputs": []
    },
    {
      "cell_type": "code",
      "source": [
        "# Aggregate transaction data by customer\n",
        "customer_transactions = merged_df.groupby('CustomerID').agg(\n",
        "    total_spent=('TotalValue', 'sum'),\n",
        "    transaction_count=('TransactionID', 'count'),\n",
        "    unique_products=('ProductID', 'nunique')\n",
        ").reset_index()"
      ],
      "metadata": {
        "id": "y3yX_Z-2siuv"
      },
      "execution_count": 24,
      "outputs": []
    },
    {
      "cell_type": "code",
      "source": [],
      "metadata": {
        "id": "lhBLVoN0sisA"
      },
      "execution_count": null,
      "outputs": []
    },
    {
      "cell_type": "markdown",
      "source": [
        "# Handle Missing Values"
      ],
      "metadata": {
        "id": "Yd5UusdDssj5"
      }
    },
    {
      "cell_type": "code",
      "source": [
        "# Check for missing values in the customer profile\n",
        "print(customer_transactions.isnull().sum())\n",
        "\n",
        "# Fill missing values in the customer profile with zeros (alternative: fill with mean, median, etc.)\n",
        "customer_transactions_filled = customer_transactions.fillna(0)\n",
        "\n",
        "# Merge with customer profile for full data (DaysSinceSignup)\n",
        "customer_profile = pd.merge(customers_df[['CustomerID', 'DaysSinceSignup']], customer_transactions_filled, on=\"CustomerID\", how=\"left\")\n"
      ],
      "metadata": {
        "colab": {
          "base_uri": "https://localhost:8080/"
        },
        "id": "lmVrjDzPtHq4",
        "outputId": "403a404b-d8d4-4bbc-caa1-072e29a359a1"
      },
      "execution_count": 29,
      "outputs": [
        {
          "output_type": "stream",
          "name": "stdout",
          "text": [
            "CustomerID           0\n",
            "total_spent          0\n",
            "transaction_count    0\n",
            "unique_products      0\n",
            "dtype: int64\n"
          ]
        }
      ]
    },
    {
      "cell_type": "markdown",
      "source": [
        "# Compute Cosine Similarity"
      ],
      "metadata": {
        "id": "KqOjEojWtW86"
      }
    },
    {
      "cell_type": "code",
      "source": [
        "# Compute the cosine similarity between customers\n",
        "cosine_sim = cosine_similarity(normalized_profile)\n",
        "\n",
        "# Convert similarity matrix to a DataFrame\n",
        "cosine_sim_df = pd.DataFrame(cosine_sim, columns=customer_profile_filled['CustomerID'], index=customer_profile_filled['CustomerID'])\n",
        "\n",
        "# Preview the similarity matrix\n",
        "print(cosine_sim_df.head())"
      ],
      "metadata": {
        "colab": {
          "base_uri": "https://localhost:8080/"
        },
        "id": "fJkxxuA9tXtr",
        "outputId": "7f4ad376-b74a-4366-f0ea-f6061ecd5d89"
      },
      "execution_count": 31,
      "outputs": [
        {
          "output_type": "stream",
          "name": "stdout",
          "text": [
            "CustomerID     C0001     C0002     C0003     C0004     C0005     C0006  \\\n",
            "CustomerID                                                               \n",
            "C0001       1.000000  0.842496 -0.703567  0.373613  0.569021 -0.623930   \n",
            "C0002       0.842496  1.000000 -0.222777 -0.151507  0.893859 -0.482070   \n",
            "C0003      -0.703567 -0.222777  1.000000 -0.913036  0.177002  0.627609   \n",
            "C0004       0.373613 -0.151507 -0.913036  1.000000 -0.550140 -0.561915   \n",
            "C0005       0.569021  0.893859  0.177002 -0.550140  1.000000 -0.067286   \n",
            "\n",
            "CustomerID     C0007     C0008     C0009     C0010  ...     C0191     C0192  \\\n",
            "CustomerID                                          ...                       \n",
            "C0001       0.656720 -0.130057 -0.033476  0.525564  ... -0.935250  0.707604   \n",
            "C0002       0.897878 -0.503516  0.509486  0.898783  ... -0.682563  0.976436   \n",
            "C0003       0.043814 -0.520601  0.717476  0.200394  ...  0.752813 -0.007392   \n",
            "C0004      -0.441523  0.807513 -0.887509 -0.509644  ... -0.425705 -0.355521   \n",
            "C0005       0.981747 -0.830664  0.758759  0.927287  ... -0.462041  0.953585   \n",
            "\n",
            "CustomerID     C0193     C0194     C0195     C0196     C0197     C0198  \\\n",
            "CustomerID                                                               \n",
            "C0001       0.602238 -0.519458 -0.852401  0.648634  0.232488  0.549043   \n",
            "C0002       0.876698 -0.779699 -0.959732  0.536831  0.695873  0.894573   \n",
            "C0003       0.117330 -0.161917  0.252328 -0.361182  0.524096  0.203871   \n",
            "C0004      -0.504500  0.545437  0.157122  0.013360 -0.813081 -0.567523   \n",
            "C0005       0.988764 -0.949061 -0.905776  0.566802  0.930589  0.997755   \n",
            "\n",
            "CustomerID     C0199     C0200  \n",
            "CustomerID                      \n",
            "C0001       0.583794  0.123165  \n",
            "C0002       0.928956 -0.322826  \n",
            "C0003       0.147057 -0.529000  \n",
            "C0004      -0.481336  0.532093  \n",
            "C0005       0.954136 -0.365550  \n",
            "\n",
            "[5 rows x 200 columns]\n"
          ]
        }
      ]
    },
    {
      "cell_type": "code",
      "source": [],
      "metadata": {
        "id": "5j0LZXIMvodH"
      },
      "execution_count": null,
      "outputs": []
    },
    {
      "cell_type": "markdown",
      "source": [
        "# Lookalike Recomendations"
      ],
      "metadata": {
        "id": "Dr7-MsmgwL9N"
      }
    },
    {
      "cell_type": "code",
      "source": [
        "# Function to get top N similar customers for each customer\n",
        "def get_top_n_similar(customers, cosine_sim_matrix, top_n=3):\n",
        "    recommendations = {}\n",
        "    for cust_id in customers:\n",
        "        # Getting similarity scores for the customer with other customers\n",
        "        sim_scores = cosine_sim_matrix[cust_id].sort_values(ascending=False)\n",
        "        # Removing self from the list\n",
        "        sim_scores = sim_scores[sim_scores.index != cust_id]\n",
        "        # Getting top N similar customers and their similarity scores\n",
        "        recommendations[cust_id] = sim_scores.head(top_n)\n",
        "    return recommendations"
      ],
      "metadata": {
        "id": "kjqMJY2wwRJN"
      },
      "execution_count": 32,
      "outputs": []
    },
    {
      "cell_type": "code",
      "source": [
        "top_lookalikes = get_top_n_similar(customer_profile_filled['CustomerID'], cosine_sim_df, top_n=3)\n",
        "\n",
        "# Converting the recommendations to a DataFrame for saving to CSV\n",
        "lookalike_list = []\n",
        "for cust_id, lookalikes in top_lookalikes.items():\n",
        "    for similar_cust_id, score in zip(lookalikes.index, lookalikes):\n",
        "        lookalike_list.append([cust_id, similar_cust_id, score])\n",
        "\n",
        "lookalike_df = pd.DataFrame(lookalike_list, columns=['CustomerID', 'LookalikeCustomerID', 'SimilarityScore'])"
      ],
      "metadata": {
        "id": "e6HkbTw6wT0o"
      },
      "execution_count": 33,
      "outputs": []
    },
    {
      "cell_type": "code",
      "source": [
        "# Lookalike.csv\n",
        "lookalike_df.to_csv('Lookalike.csv', index=False)\n",
        "\n",
        "# Result\n",
        "print(lookalike_df.head())"
      ],
      "metadata": {
        "colab": {
          "base_uri": "https://localhost:8080/"
        },
        "id": "BxjgJVpqwXQf",
        "outputId": "625d2c7b-6e42-4f9d-ecc4-ceb2eb98cb4d"
      },
      "execution_count": 34,
      "outputs": [
        {
          "output_type": "stream",
          "name": "stdout",
          "text": [
            "  CustomerID LookalikeCustomerID  SimilarityScore\n",
            "0      C0001               C0152         0.999752\n",
            "1      C0001               C0160         0.988904\n",
            "2      C0001               C0134         0.977309\n",
            "3      C0002               C0029         0.997114\n",
            "4      C0002               C0166         0.989326\n"
          ]
        }
      ]
    },
    {
      "cell_type": "code",
      "source": [],
      "metadata": {
        "id": "uNAVzezXwZ1K"
      },
      "execution_count": null,
      "outputs": []
    }
  ]
}